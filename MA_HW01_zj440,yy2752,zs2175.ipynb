{
 "cells": [
  {
   "cell_type": "code",
   "execution_count": 1,
   "metadata": {},
   "outputs": [],
   "source": [
    "import pandas as pd\n",
    "import numpy as np\n",
    "import scipy\n",
    "import math\n",
    "import random\n",
    "from scipy import stats\n",
    "from random import sample"
   ]
  },
  {
   "cell_type": "code",
   "execution_count": 2,
   "metadata": {},
   "outputs": [
    {
     "data": {
      "text/plain": [
       "<bound method NDFrame.describe of         purchase_TF Variant        date        id\n",
       "0             False       A  2019-11-08  0x25b44a\n",
       "1             False       B  2020-08-27  0x46271e\n",
       "2             False       A  2020-06-11  0x80b8f1\n",
       "3             False       B  2020-08-22  0x8d736d\n",
       "4             False       A  2020-08-05  0x96c9c8\n",
       "...             ...     ...         ...       ...\n",
       "129995        False       A  2020-07-23  0x4089c2\n",
       "129996        False       A  2020-06-24  0x6a5e3a\n",
       "129997        False       A  2019-10-12  0x95e302\n",
       "129998        False       A  2020-03-18  0x7c4afa\n",
       "129999        False       A  2019-12-09  0x380071\n",
       "\n",
       "[130000 rows x 4 columns]>"
      ]
     },
     "execution_count": 2,
     "metadata": {},
     "output_type": "execute_result"
    }
   ],
   "source": [
    "df = pd.read_csv(\"AB_test_data.csv\")\n",
    "df.head()\n",
    "df.describe"
   ]
  },
  {
   "cell_type": "code",
   "execution_count": 3,
   "metadata": {},
   "outputs": [
    {
     "data": {
      "text/html": [
       "<div>\n",
       "<style scoped>\n",
       "    .dataframe tbody tr th:only-of-type {\n",
       "        vertical-align: middle;\n",
       "    }\n",
       "\n",
       "    .dataframe tbody tr th {\n",
       "        vertical-align: top;\n",
       "    }\n",
       "\n",
       "    .dataframe thead th {\n",
       "        text-align: right;\n",
       "    }\n",
       "</style>\n",
       "<table border=\"1\" class=\"dataframe\">\n",
       "  <thead>\n",
       "    <tr style=\"text-align: right;\">\n",
       "      <th></th>\n",
       "      <th>purchase_TF</th>\n",
       "      <th>Variant</th>\n",
       "      <th>id</th>\n",
       "    </tr>\n",
       "  </thead>\n",
       "  <tbody>\n",
       "    <tr>\n",
       "      <th>0</th>\n",
       "      <td>False</td>\n",
       "      <td>A</td>\n",
       "      <td>0x25b44a</td>\n",
       "    </tr>\n",
       "    <tr>\n",
       "      <th>1</th>\n",
       "      <td>False</td>\n",
       "      <td>B</td>\n",
       "      <td>0x46271e</td>\n",
       "    </tr>\n",
       "    <tr>\n",
       "      <th>2</th>\n",
       "      <td>False</td>\n",
       "      <td>A</td>\n",
       "      <td>0x80b8f1</td>\n",
       "    </tr>\n",
       "    <tr>\n",
       "      <th>3</th>\n",
       "      <td>False</td>\n",
       "      <td>B</td>\n",
       "      <td>0x8d736d</td>\n",
       "    </tr>\n",
       "    <tr>\n",
       "      <th>4</th>\n",
       "      <td>False</td>\n",
       "      <td>A</td>\n",
       "      <td>0x96c9c8</td>\n",
       "    </tr>\n",
       "  </tbody>\n",
       "</table>\n",
       "</div>"
      ],
      "text/plain": [
       "   purchase_TF Variant        id\n",
       "0        False       A  0x25b44a\n",
       "1        False       B  0x46271e\n",
       "2        False       A  0x80b8f1\n",
       "3        False       B  0x8d736d\n",
       "4        False       A  0x96c9c8"
      ]
     },
     "execution_count": 3,
     "metadata": {},
     "output_type": "execute_result"
    }
   ],
   "source": [
    "#Date may not be that influencial, so we remove the data column\n",
    "df = df[df.columns.drop('date')]\n",
    "df.head()"
   ]
  },
  {
   "cell_type": "code",
   "execution_count": 4,
   "metadata": {},
   "outputs": [],
   "source": [
    "#Divide the control and treatment group\n",
    "Group_A = df.loc[df['Variant'] == 'A']\n",
    "Group_B = df.loc[df['Variant'] == 'B']"
   ]
  },
  {
   "cell_type": "code",
   "execution_count": 5,
   "metadata": {},
   "outputs": [
    {
     "data": {
      "text/html": [
       "<div>\n",
       "<style scoped>\n",
       "    .dataframe tbody tr th:only-of-type {\n",
       "        vertical-align: middle;\n",
       "    }\n",
       "\n",
       "    .dataframe tbody tr th {\n",
       "        vertical-align: top;\n",
       "    }\n",
       "\n",
       "    .dataframe thead th {\n",
       "        text-align: right;\n",
       "    }\n",
       "</style>\n",
       "<table border=\"1\" class=\"dataframe\">\n",
       "  <thead>\n",
       "    <tr style=\"text-align: right;\">\n",
       "      <th></th>\n",
       "      <th>purchase_TF</th>\n",
       "      <th>Variant</th>\n",
       "      <th>id</th>\n",
       "    </tr>\n",
       "  </thead>\n",
       "  <tbody>\n",
       "    <tr>\n",
       "      <th>0</th>\n",
       "      <td>False</td>\n",
       "      <td>A</td>\n",
       "      <td>0x25b44a</td>\n",
       "    </tr>\n",
       "    <tr>\n",
       "      <th>2</th>\n",
       "      <td>False</td>\n",
       "      <td>A</td>\n",
       "      <td>0x80b8f1</td>\n",
       "    </tr>\n",
       "    <tr>\n",
       "      <th>4</th>\n",
       "      <td>False</td>\n",
       "      <td>A</td>\n",
       "      <td>0x96c9c8</td>\n",
       "    </tr>\n",
       "    <tr>\n",
       "      <th>5</th>\n",
       "      <td>False</td>\n",
       "      <td>A</td>\n",
       "      <td>0x751c24</td>\n",
       "    </tr>\n",
       "    <tr>\n",
       "      <th>6</th>\n",
       "      <td>False</td>\n",
       "      <td>A</td>\n",
       "      <td>0x60d2bd</td>\n",
       "    </tr>\n",
       "  </tbody>\n",
       "</table>\n",
       "</div>"
      ],
      "text/plain": [
       "   purchase_TF Variant        id\n",
       "0        False       A  0x25b44a\n",
       "2        False       A  0x80b8f1\n",
       "4        False       A  0x96c9c8\n",
       "5        False       A  0x751c24\n",
       "6        False       A  0x60d2bd"
      ]
     },
     "execution_count": 5,
     "metadata": {},
     "output_type": "execute_result"
    }
   ],
   "source": [
    "#Group_A = Control\n",
    "Group_A.head()"
   ]
  },
  {
   "cell_type": "code",
   "execution_count": 6,
   "metadata": {},
   "outputs": [
    {
     "data": {
      "text/html": [
       "<div>\n",
       "<style scoped>\n",
       "    .dataframe tbody tr th:only-of-type {\n",
       "        vertical-align: middle;\n",
       "    }\n",
       "\n",
       "    .dataframe tbody tr th {\n",
       "        vertical-align: top;\n",
       "    }\n",
       "\n",
       "    .dataframe thead th {\n",
       "        text-align: right;\n",
       "    }\n",
       "</style>\n",
       "<table border=\"1\" class=\"dataframe\">\n",
       "  <thead>\n",
       "    <tr style=\"text-align: right;\">\n",
       "      <th></th>\n",
       "      <th>purchase_TF</th>\n",
       "      <th>Variant</th>\n",
       "      <th>id</th>\n",
       "    </tr>\n",
       "  </thead>\n",
       "  <tbody>\n",
       "    <tr>\n",
       "      <th>1</th>\n",
       "      <td>False</td>\n",
       "      <td>B</td>\n",
       "      <td>0x46271e</td>\n",
       "    </tr>\n",
       "    <tr>\n",
       "      <th>3</th>\n",
       "      <td>False</td>\n",
       "      <td>B</td>\n",
       "      <td>0x8d736d</td>\n",
       "    </tr>\n",
       "    <tr>\n",
       "      <th>59</th>\n",
       "      <td>False</td>\n",
       "      <td>B</td>\n",
       "      <td>0x3ff83f</td>\n",
       "    </tr>\n",
       "    <tr>\n",
       "      <th>74</th>\n",
       "      <td>False</td>\n",
       "      <td>B</td>\n",
       "      <td>0x138d19</td>\n",
       "    </tr>\n",
       "    <tr>\n",
       "      <th>103</th>\n",
       "      <td>False</td>\n",
       "      <td>B</td>\n",
       "      <td>0x966e6a</td>\n",
       "    </tr>\n",
       "  </tbody>\n",
       "</table>\n",
       "</div>"
      ],
      "text/plain": [
       "     purchase_TF Variant        id\n",
       "1          False       B  0x46271e\n",
       "3          False       B  0x8d736d\n",
       "59         False       B  0x3ff83f\n",
       "74         False       B  0x138d19\n",
       "103        False       B  0x966e6a"
      ]
     },
     "execution_count": 6,
     "metadata": {},
     "output_type": "execute_result"
    }
   ],
   "source": [
    "#Group_B = Treatment\n",
    "Group_B.head()"
   ]
  },
  {
   "cell_type": "code",
   "execution_count": 7,
   "metadata": {},
   "outputs": [],
   "source": [
    "A_list = list(Group_A['purchase_TF'])\n",
    "B_list = list(Group_B['purchase_TF'])"
   ]
  },
  {
   "cell_type": "markdown",
   "metadata": {},
   "source": [
    "### 1. Conduct an A/B test to determine whether Alternative B improved conversion rates (site users book the property) over alternative A."
   ]
  },
  {
   "cell_type": "code",
   "execution_count": 8,
   "metadata": {},
   "outputs": [
    {
     "name": "stdout",
     "output_type": "stream",
     "text": [
      "The mean for group A is: 0.149616\n",
      "The mean for group B is: 0.1766\n"
     ]
    }
   ],
   "source": [
    "print(\"The mean for group A is:\", np.mean(A_list))\n",
    "print(\"The mean for group B is:\", np.mean(B_list))"
   ]
  },
  {
   "cell_type": "markdown",
   "metadata": {},
   "source": [
    "According to the mean comparison, the mean for treatment group is higher (increased by 18.04%).\n",
    "\n",
    "Seems that the treatment group is effective. Now we'd like to use T-test to double-check."
   ]
  },
  {
   "cell_type": "code",
   "execution_count": 9,
   "metadata": {},
   "outputs": [],
   "source": [
    "norm = scipy.stats.norm()"
   ]
  },
  {
   "cell_type": "markdown",
   "metadata": {},
   "source": [
    "We choose T-test method although the sample size is large: As sample size keeps growing, the results for t-test and z-test will gradually become similar.\n",
    "\n",
    "We use equal variances/One-tailed strategy(only to see improvement) and write a function for the purpose."
   ]
  },
  {
   "cell_type": "code",
   "execution_count": 10,
   "metadata": {},
   "outputs": [],
   "source": [
    "def t_test(List_A,List_B,confidence_level):\n",
    "    Mean_A = np.mean(List_A)\n",
    "    Mean_B = np.mean(List_B)\n",
    "    s = 0\n",
    "    \n",
    "    for i in range(len(List_A)):\n",
    "        s = s + (List_A[i] - Mean_A)**2\n",
    "    for j in range(len(List_B)):\n",
    "        s = s + (List_B[j] - Mean_B)**2\n",
    "        \n",
    "    s = np.sqrt(s /(len(List_A) + len(List_B) - 2))\n",
    "    t_stats = (Mean_B-Mean_A) / (s*np.sqrt(1/len(List_A) + 1/len(List_B)))\n",
    "    \n",
    "    if t_stats >= norm.ppf(1-(1-confidence_level)/2):\n",
    "        print('Improvment of treatment group B is siginificant.')\n",
    "    else:\n",
    "        print('Improvment of treatment group B is not quite siginificant.')\n",
    "        \n",
    "    print('The T-score is: ', t_stats)\n",
    "    return t_stats"
   ]
  },
  {
   "cell_type": "code",
   "execution_count": 11,
   "metadata": {},
   "outputs": [
    {
     "name": "stdout",
     "output_type": "stream",
     "text": [
      "Improvment of treatment group B is siginificant.\n",
      "The T-score is:  5.2309979343658375\n"
     ]
    },
    {
     "data": {
      "text/plain": [
       "5.2309979343658375"
      ]
     },
     "execution_count": 11,
     "metadata": {},
     "output_type": "execute_result"
    }
   ],
   "source": [
    "#At 95% confidence interval\n",
    "t_test(A_list,B_list,0.95)"
   ]
  },
  {
   "cell_type": "markdown",
   "metadata": {},
   "source": [
    "### 2. Calculate the optimal sample size for a 95% confidence rate and test with 80% power. \n",
    "\n",
    "### Conduct the test 10 times using samples of the optimal size. Report results."
   ]
  },
  {
   "cell_type": "markdown",
   "metadata": {},
   "source": [
    "To calculate optimal sample size for the given confidence level/power, we write a function as follows."
   ]
  },
  {
   "cell_type": "code",
   "execution_count": 50,
   "metadata": {},
   "outputs": [],
   "source": [
    "def sample_size_estimation(List_A,List_B,confidence_level,power):\n",
    "    Mean_A = np.mean(List_A)\n",
    "    Mean_B = np.mean(List_B)\n",
    "    Var_A = np.var(List_A)\n",
    "    Var_B = np.var(List_B)\n",
    "\n",
    "    mde = Mean_A-Mean_B\n",
    "    print(mde)\n",
    "    p = (Mean_A+Mean_B)/2\n",
    "    n = (((norm.ppf(1-(1-confidence_level)/2)*np.sqrt(2*p*(1-p)) + norm.ppf(power)*np.sqrt(Mean_A*(1-Mean_A)+Mean_B*(1-Mean_B))))**2)/(mde**2)\n",
    "    \n",
    "    return n"
   ]
  },
  {
   "cell_type": "code",
   "execution_count": 54,
   "metadata": {
    "scrolled": true
   },
   "outputs": [
    {
     "name": "stdout",
     "output_type": "stream",
     "text": [
      "-0.026984000000000008\n",
      "The optimal size at this confidence level/power should be: 2941\n"
     ]
    }
   ],
   "source": [
    "optimal_size = sample_size_estimation(A_list,B_list,0.95,0.8)\n",
    "optimal_size = int(optimal_size)\n",
    "print(\"The optimal size at this confidence level/power should be:\", optimal_size)"
   ]
  },
  {
   "cell_type": "markdown",
   "metadata": {},
   "source": [
    "Next, we'd like to use the optimal size to conduct the test 10 times. Again, we write a function for it."
   ]
  },
  {
   "cell_type": "code",
   "execution_count": 65,
   "metadata": {},
   "outputs": [],
   "source": [
    "def t_test_multitimes(List_A,List_B,confidence_level,sample_size,n_times):\n",
    "    for i in range(n_times):\n",
    "        #random sampling\n",
    "        Size_A = sample(List_A,sample_size)\n",
    "        Size_B = sample(List_A,sample_size)\n",
    "        #using the new sample to run the t_test again\n",
    "        print(\"For round \",i+1,\", the result is:\")\n",
    "        t_test(Size_A,Size_B,confidence_level)\n",
    "        print(\" \")\n",
    "    return"
   ]
  },
  {
   "cell_type": "code",
   "execution_count": 71,
   "metadata": {
    "scrolled": true
   },
   "outputs": [
    {
     "name": "stdout",
     "output_type": "stream",
     "text": [
      "For round  1 , the result is:\n",
      "Improvment of treatment group B is not quite siginificant.\n",
      "The T-score is:  0.11053412387732954\n",
      " \n",
      "For round  2 , the result is:\n",
      "Improvment of treatment group B is not quite siginificant.\n",
      "The T-score is:  -1.774108925328981\n",
      " \n",
      "For round  3 , the result is:\n",
      "Improvment of treatment group B is not quite siginificant.\n",
      "The T-score is:  -1.6977171252909788\n",
      " \n",
      "For round  4 , the result is:\n",
      "Improvment of treatment group B is not quite siginificant.\n",
      "The T-score is:  -0.9631467785646283\n",
      " \n",
      "For round  5 , the result is:\n",
      "Improvment of treatment group B is not quite siginificant.\n",
      "The T-score is:  -0.7989193353757855\n",
      " \n",
      "For round  6 , the result is:\n",
      "Improvment of treatment group B is not quite siginificant.\n",
      "The T-score is:  0.8402841880106529\n",
      " \n",
      "For round  7 , the result is:\n",
      "Improvment of treatment group B is siginificant.\n",
      "The T-score is:  2.474636011826321\n",
      " \n",
      "For round  8 , the result is:\n",
      "Improvment of treatment group B is not quite siginificant.\n",
      "The T-score is:  -2.3245130007828716\n",
      " \n",
      "For round  9 , the result is:\n",
      "Improvment of treatment group B is not quite siginificant.\n",
      "The T-score is:  -0.8491119490386206\n",
      " \n",
      "For round  10 , the result is:\n",
      "Improvment of treatment group B is not quite siginificant.\n",
      "The T-score is:  0.03660048791315358\n",
      " \n"
     ]
    }
   ],
   "source": [
    "t_test_multitimes(A_list,B_list,0.95,optimal_size,10)"
   ]
  },
  {
   "cell_type": "markdown",
   "metadata": {},
   "source": [
    "### 3. Conduct a sequential test for the 10 samples. For any of the samples, were you able to stop the test prior to using the full sample? What was the average number of iterations required to stop the test?"
   ]
  },
  {
   "cell_type": "code",
   "execution_count": 72,
   "metadata": {},
   "outputs": [],
   "source": [
    "def t_test_sequential(List_A,List_B,confidence_level,sample_size,n_times,power):\n",
    "    ttl_iteration = []\n",
    "    \n",
    "    for i in range(n_times):\n",
    "        Size_A = sample(List_A,sample_size)\n",
    "        Size_B = sample(List_A,sample_size)\n",
    "        ln_A = np.log(1/(1-confidence_level))\n",
    "        ln_B = np.log(1-power)\n",
    "        total_sample = Size_A + Size_B\n",
    "        random.shuffle(total_sample)\n",
    "        p_A = np.mean(Size_A)\n",
    "        p_B = np.mean(Size_B)\n",
    "        accumulative_log_lamda = 0\n",
    "        t=0\n",
    "        \n",
    "        while (accumulative_log_lamda>ln_B) and (accumulative_log_lamda <ln_A):\n",
    "            if total_sample[t]:\n",
    "                accumulative_log_lamda += np.log(p_A/p_B)\n",
    "            else:\n",
    "                accumulative_log_lamda += np.log((1-p_A)/(1-p_B))\n",
    "            t += 1\n",
    "            if t >= len(total_sample):\n",
    "                print('Cannot reject or accept H0')\n",
    "                break\n",
    "            else:\n",
    "                continue\n",
    "                \n",
    "        if accumulative_log_lamda <= ln_B:\n",
    "            print(\"Accept H0 in\",t,\"trials.\")\n",
    "    \n",
    "        elif accumulative_log_lamda >= ln_A:\n",
    "            print(\"Reject H0 in\",t,\"trials.\")\n",
    "            \n",
    "        ttl_iteration.append(t)\n",
    "        \n",
    "    average_iteration = np.average(ttl_iteration)\n",
    "    return np.average(average_iteration)"
   ]
  },
  {
   "cell_type": "code",
   "execution_count": 77,
   "metadata": {},
   "outputs": [
    {
     "name": "stdout",
     "output_type": "stream",
     "text": [
      "Cannot reject or accept H0\n",
      "Cannot reject or accept H0\n",
      "Cannot reject or accept H0\n",
      "Cannot reject or accept H0\n",
      "Cannot reject or accept H0\n",
      "Cannot reject or accept H0\n",
      "Accept H0 in 94 trials.\n",
      "Accept H0 in 1482 trials.\n",
      "Accept H0 in 1301 trials.\n",
      "Cannot reject or accept H0\n"
     ]
    },
    {
     "data": {
      "text/plain": [
       "4405.1"
      ]
     },
     "execution_count": 77,
     "metadata": {},
     "output_type": "execute_result"
    }
   ],
   "source": [
    "t_test_sequential(A_list,B_list,0.95,optimal_size,10,0.8)"
   ]
  },
  {
   "cell_type": "code",
   "execution_count": null,
   "metadata": {},
   "outputs": [],
   "source": []
  }
 ],
 "metadata": {
  "kernelspec": {
   "display_name": "Python 3",
   "language": "python",
   "name": "python3"
  },
  "language_info": {
   "codemirror_mode": {
    "name": "ipython",
    "version": 3
   },
   "file_extension": ".py",
   "mimetype": "text/x-python",
   "name": "python",
   "nbconvert_exporter": "python",
   "pygments_lexer": "ipython3",
   "version": "3.8.3"
  }
 },
 "nbformat": 4,
 "nbformat_minor": 4
}
